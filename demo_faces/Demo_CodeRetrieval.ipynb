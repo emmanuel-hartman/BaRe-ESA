{
 "cells": [
  {
   "cell_type": "code",
   "execution_count": 3,
   "id": "efdf85d0",
   "metadata": {},
   "outputs": [],
   "source": [
    "import sys\n",
    "sys.path.append('..')\n",
    "import H2_match_coeffs as gmc\n",
    "import utils.input_output as io\n",
    "import numpy as np\n",
    "import torch\n",
    "import enr.H2 as energy\n",
    "use_cuda = 1\n",
    "torchdeviceId = torch.device('cuda:0') if use_cuda else 'cpu'\n",
    "torchdtype = torch.float32\n",
    "import os\n"
   ]
  },
  {
   "cell_type": "code",
   "execution_count": 4,
   "id": "98ab1120",
   "metadata": {},
   "outputs": [],
   "source": [
    "path_dfaust_template = sys.path[0]+\"/base/DFAUST_template.ply\"\n",
    "[v_template,faces,Fun0] = io.loadData(path_dfaust_template) \n",
    "v_template = torch.from_numpy(v_template).to(dtype=torchdtype, device=torchdeviceId)\n",
    "faces = torch.from_numpy(faces).to(dtype=torch.long, device=torchdeviceId)"
   ]
  },
  {
   "cell_type": "code",
   "execution_count": 7,
   "id": "d5c5088c",
   "metadata": {},
   "outputs": [
    {
     "name": "stdout",
     "output_type": "stream",
     "text": [
      "130 (170, 6890, 3)\n"
     ]
    }
   ],
   "source": [
    "basis_np_mot = np.load(sys.path[0]+\"/base/basis_DFAUST_motions.npy\")\n",
    "b_split= basis_np_mot.shape[0]\n",
    "basis_np_shape = np.load(sys.path[0]+\"/base/basis_DFAUST_shape.npy\")\n",
    "basis_np = np.concatenate((basis_np_mot,basis_np_shape),axis=0)\n",
    "\n",
    "basis_torch_shape = torch.from_numpy(basis_np_shape).to(dtype=torchdtype, device=torchdeviceId)\n",
    "basis_torch_mot = torch.from_numpy(basis_np_mot).to(dtype=torchdtype, device=torchdeviceId)\n",
    "basis_torch = torch.from_numpy(basis_np).to(dtype=torchdtype, device=torchdeviceId)\n",
    "\n",
    "print(b_split, basis_np.shape)"
   ]
  },
  {
   "cell_type": "code",
   "execution_count": 8,
   "id": "50b2a91c",
   "metadata": {},
   "outputs": [],
   "source": [
    "a0=1\n",
    "a1=1000\n",
    "b1=100\n",
    "c1=1\n",
    "d1=1\n",
    "a2=1\n",
    "\n",
    "param1 = { 'weight_coef_dist': 10**1,'sig_geom':.4,'kernel_grass': 'linear',\n",
    "          'max_iter': 500,'time_steps': 2}\n",
    "param2 = { 'weight_coef_dist': 10**6,'sig_geom':.1,'kernel_grass': 'linear',\n",
    "          'max_iter': 500,'time_steps': 2}\n",
    "param3 = { 'weight_coef_dist': 10**12,'sig_geom':.025,'kernel_grass': 'linear',\n",
    "          'max_iter': 1000,'time_steps': 2}\n",
    "\n",
    "paramlist=[param1,param2,param3]"
   ]
  },
  {
   "cell_type": "code",
   "execution_count": 16,
   "id": "0a17083e",
   "metadata": {},
   "outputs": [],
   "source": [
    "path_to_target = \"\"\n",
    "[V_raw,F_raw,FunS] = io.loadData(path_to_target)\n",
    "target = [V_raw,F_raw]\n",
    "\n",
    "init_path = torch.stack([v_template]*5,dim=0)\n",
    "\n",
    "\n",
    "chemin_exp,X = gmc.H2MultiRes_coeff(a0, a1, b1, c1, d1, a2, paramlist, [v_template.cpu().numpy(), faces.cpu().numpy()], target, init_path, faces, basis_torch)\n",
    "chemin_exp =chemin + torch.einsum(\"ij, jkl-> ikl\",X, basis_torch)     \n",
    "io.plotGeodesic([chemin_exp[-1].cpu().numpy()],faces.cpu().numpy(),stepsize=2,axis=[0,1,0],angle=2*np.pi)\n"
   ]
  },
  {
   "cell_type": "code",
   "execution_count": null,
   "id": "8b48ee3e",
   "metadata": {},
   "outputs": [],
   "source": []
  }
 ],
 "metadata": {
  "kernelspec": {
   "display_name": "Python 3",
   "language": "python",
   "name": "python3"
  },
  "language_info": {
   "codemirror_mode": {
    "name": "ipython",
    "version": 3
   },
   "file_extension": ".py",
   "mimetype": "text/x-python",
   "name": "python",
   "nbconvert_exporter": "python",
   "pygments_lexer": "ipython3",
   "version": "3.7.10"
  }
 },
 "nbformat": 4,
 "nbformat_minor": 5
}
