{
 "cells": [
  {
   "cell_type": "code",
   "execution_count": 1,
   "id": "1fdedcc1",
   "metadata": {},
   "outputs": [],
   "source": [
    "import sys\n",
    "sys.path.append('..')\n",
    "import H2_match_coeffs as gmc\n",
    "import utils.input_output as io\n",
    "import numpy as np\n",
    "import torch\n",
    "import enr.H2 as energy\n",
    "use_cuda = 1\n",
    "torchdeviceId = torch.device('cuda:0') if use_cuda else 'cpu'\n",
    "torchdtype = torch.float32\n",
    "import os"
   ]
  },
  {
   "cell_type": "code",
   "execution_count": 2,
   "id": "ab500ea2",
   "metadata": {},
   "outputs": [],
   "source": [
    "path_dfaust_template = sys.path[0]+\"/base/DFAUST_template.ply\"\n",
    "[v_template,faces,Fun0] = io.loadData(path_dfaust_template) \n",
    "v_template = torch.from_numpy(v_template).to(dtype=torchdtype, device=torchdeviceId)\n",
    "faces = torch.from_numpy(faces).to(dtype=torch.long, device=torchdeviceId)"
   ]
  },
  {
   "cell_type": "code",
   "execution_count": 3,
   "id": "3ddaf80e",
   "metadata": {},
   "outputs": [
    {
     "name": "stdout",
     "output_type": "stream",
     "text": [
      "130 (170, 6890, 3)\n"
     ]
    }
   ],
   "source": [
    "basis_np_mot = np.load(sys.path[0]+\"/base/basis_DFAUST_motions.npy\")\n",
    "b_split= basis_np_mot.shape[0]\n",
    "basis_np_shape = np.load(sys.path[0]+\"/base/basis_DFAUST_shape.npy\")\n",
    "basis_np = np.concatenate((basis_np_mot,basis_np_shape),axis=0)\n",
    "\n",
    "basis_torch_shape = torch.from_numpy(basis_np_shape).to(dtype=torchdtype, device=torchdeviceId)\n",
    "basis_torch_mot = torch.from_numpy(basis_np_mot).to(dtype=torchdtype, device=torchdeviceId)\n",
    "basis_torch = torch.from_numpy(basis_np).to(dtype=torchdtype, device=torchdeviceId)\n",
    "\n",
    "print(b_split, basis_np.shape)"
   ]
  },
  {
   "cell_type": "code",
   "execution_count": 4,
   "id": "183d73fc",
   "metadata": {},
   "outputs": [],
   "source": [
    "a0=1\n",
    "a1=1000\n",
    "b1=100\n",
    "c1=1\n",
    "d1=1\n",
    "a2=1"
   ]
  },
  {
   "cell_type": "code",
   "execution_count": 5,
   "id": "2f308680",
   "metadata": {},
   "outputs": [],
   "source": [
    "def getEndpointCoeff(filename):\n",
    "    param1 = { 'weight_coef_dist': 10**1,'sig_geom':.4,'kernel_grass': 'linear',\n",
    "              'max_iter': 500,'time_steps': 2}\n",
    "    param2 = { 'weight_coef_dist': 10**5,'sig_geom':.1,'kernel_grass': 'linear',\n",
    "              'max_iter': 500,'time_steps': 3}\n",
    "    param3 = { 'weight_coef_dist': 10**10,'sig_geom':.025,'kernel_grass': 'linear',\n",
    "              'max_iter': 1000,'time_steps': 5}\n",
    "    paramlist=[param1,param2,param3]    \n",
    "\n",
    "    [V_raw,F_raw,FunS] = io.loadData(filename)\n",
    "    target = [V_raw,F_raw]\n",
    "    init_path = torch.stack([v_template]*5,dim=0)\n",
    "    chemin_exp,X = gmc.H2MultiRes_coeff(a0, a1, b1, c1, d1, a2, paramlist, [v_template.cpu().numpy(), faces.cpu().numpy()], target, init_path, faces, basis_torch)\n",
    "    chemin_exp = init_path + torch.einsum(\"ij, jkl-> ikl\",X, basis_torch)     \n",
    "    return  X,[V_raw, F_raw]"
   ]
  },
  {
   "cell_type": "code",
   "execution_count": 6,
   "id": "9acfd6f2",
   "metadata": {},
   "outputs": [],
   "source": [
    "path_to_target_endpoint0 = \"/home/emanuel/Downloads/dfaust/registered_pose-vecs/50009/chicken_wings_00000.ply\"\n",
    "path_to_target_endpoint1 = \"/home/emanuel/Downloads/dfaust/registered_pose-vecs/50009/chicken_wings_00020.ply\"\n",
    "\n",
    "X0, mesh0 = getEndpointCoeff(path_to_target_endpoint0)\n",
    "X1, mesh1 = getEndpointCoeff(path_to_target_endpoint1)\n",
    "\n",
    "init_path = torch.stack([v_template]*2,dim=0)\n",
    "init_X=torch.stack([X0[-1],X1[-1]],dim=0).to(dtype=torchdtype, device=torchdeviceId)\n",
    "init_chemin = init_path + torch.einsum(\"ij, jkl-> ikl\",init_X, basis_torch)\n",
    "\n",
    "param1 = { 'weight_coef_dist': 10**1,'sig_geom':.4,'kernel_grass': 'linear','max_iter': 500,'time_steps': 2}\n",
    "param2 = { 'weight_coef_dist': 10**5,'sig_geom':.1,'kernel_grass': 'linear','max_iter': 500,'time_steps': 3}\n",
    "param3 = { 'weight_coef_dist': 10**10,'sig_geom':.025,'kernel_grass': 'linear','max_iter': 1000,'time_steps': 5}\n",
    "paramlist=[param1,param2,param3]\n",
    "\n",
    "geod,X= gmc.H2MultiRes_sym_coeff(a0,a1,b1,c1,d1,a2,paramlist, mesh0, mesh1, init_chemin,faces, basis_torch)\n",
    "io.plotGeodesic(geod.cpu().numpy(),faces.cpu().numpy(),stepsize=2,axis=[0,1,0],angle=2*np.pi)"
   ]
  }
 ],
 "metadata": {
  "kernelspec": {
   "display_name": "Python 3",
   "language": "python",
   "name": "python3"
  },
  "language_info": {
   "codemirror_mode": {
    "name": "ipython",
    "version": 3
   },
   "file_extension": ".py",
   "mimetype": "text/x-python",
   "name": "python",
   "nbconvert_exporter": "python",
   "pygments_lexer": "ipython3",
   "version": "3.7.10"
  }
 },
 "nbformat": 4,
 "nbformat_minor": 5
}
